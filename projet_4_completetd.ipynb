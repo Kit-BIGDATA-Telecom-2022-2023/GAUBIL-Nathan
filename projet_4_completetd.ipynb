{
 "cells": [
  {
   "cell_type": "markdown",
   "metadata": {},
   "source": [
    "# Projet maison n° 4"
   ]
  },
  {
   "cell_type": "code",
   "execution_count": 1,
   "metadata": {},
   "outputs": [],
   "source": [
    "# imports\n",
    "import requests\n",
    "from bs4 import BeautifulSoup\n",
    "import re"
   ]
  },
  {
   "cell_type": "markdown",
   "metadata": {},
   "source": [
    "**Partie A**\n",
    "\n",
    "Ecrire une fonction `get_prices_from_url()` qui extrait des informations à partir des 2 pages ci-dessous.\n",
    "\n",
    "```python\n",
    "URL_PAGE2 = \"https://kim.fspot.org/cours/page2.html\"\n",
    "URL_PAGE3 = \"https://kim.fspot.org/cours/page3.html\"\n",
    "```\n",
    "\n",
    "Avec `URL_PAGE2`, la fonction doit retourner :\n",
    "\n",
    "```json\n",
    "{'Personal': {'price': '$5', 'storage': '1GB', 'databases': 1},\n",
    " 'Small Business': {'price': '$25', 'storage': '10GB', 'databases': 5},\n",
    " 'Enterprise': {'price': '$45', 'storage': '100GB', 'databases': 25}}\n",
    "```"
   ]
  },
  {
   "cell_type": "code",
   "execution_count": 2,
   "metadata": {},
   "outputs": [
    {
     "name": "stdout",
     "output_type": "stream",
     "text": [
      "{'Personal': {'price': '$5', 'storage': '1GB', 'databases': 1}, 'Small Business': {'price': '$25', 'storage': '10GB', 'databases': 5}, 'Enterprise': {'price': '$45', 'storage': '100GB', 'databases': 25}}\n",
      "{'Personal': {'price': '$5', 'storage': '1GB', 'databases': 1}, 'Small Business': {'price': '$25', 'storage': '10GB', 'databases': 5}, 'Enterprise': {'price': '$45', 'storage': '100GB', 'databases': 25}, 'Privilege': {'price': '$99', 'storage': '1TB', 'databases': 100}}\n"
     ]
    }
   ],
   "source": [
    "# partie A\n",
    "URL_PAGE2 = \"https://kim.fspot.org/cours/page2.html\"\n",
    "URL_PAGE3 = \"https://kim.fspot.org/cours/page3.html\"\n",
    "\n",
    "def get_prices_from_url(url):\n",
    "    prices = {}\n",
    "    # je récupère l'url de la page concerné\n",
    "    r = requests.get(url)\n",
    "    # je récupère le text html de la page avec les balises\n",
    "    soup = BeautifulSoup(r.text)\n",
    "    # Le tableau avec les données qui nous intéressent se trouve dans la class pricing tabel\n",
    "    # On a tout le contenu de la balise correpsondante\n",
    "    table_rows = soup.select(\".pricing-table\")\n",
    "    # On va poarcourir chaque ligne de notre texte\n",
    "    for table_row in table_rows:\n",
    "        # On va commencer à récuperer les infos demandés\n",
    "        # Tout d'abord le nom de notre petit tableau\n",
    "        key = table_row.find('h2').text\n",
    "        # on cherche le prix donc on veut un dollard puis des chiffres\n",
    "        # le prix se trouve dans un <span> \n",
    "        price = re.search('[$][0-9]+',table_row.find('span').text)[0]\n",
    "        # on l'ajoute dans notre dico avec en clé le nom du tableau dans lequel ca se situe\n",
    "        prices[key] = {'price':price}\n",
    "        # le principe est similaire au prix, on ne s'embete pas à chercher un endoit\n",
    "        # on parcourt entierement le texte et si on trouve des chiffres + Un B à la fin on récupère\n",
    "        storage = re.search('[0-9]+.B',table_row.text)[0]\n",
    "        # on stocke\n",
    "        prices[key]['storage'] = storage\n",
    "        # Meme principe que storage, sauf que double recherche, première pour trouver (X databeses)\n",
    "        # une deuxième pour ne prendre que la valeur, [0] permet de récupérer la valeur et non le résultat de la fonction re\n",
    "        databases = re.findall('[0-9]+',re.search('[0-9]+ database',table_row.text)[0])[0]\n",
    "        # ajout de databases\n",
    "        prices[key]['databases'] = int(databases)\n",
    "    return prices\n",
    "\n",
    "print(get_prices_from_url(URL_PAGE2))\n",
    "print(get_prices_from_url(URL_PAGE3))"
   ]
  },
  {
   "cell_type": "markdown",
   "metadata": {},
   "source": [
    "**Partie B**\n",
    "\n",
    "*L'abus d'alcool est dangereux pour la santé, à consommer avec modération.*\n",
    "\n",
    "1) Ecrire une fonction `extract_beer_infos()` qui extrait des informations sur une bière du site de bières *beowulf*.\n",
    "\n",
    "Exemple d'URL: https://www.beerwulf.com/fr-fr/p/bieres/cuvee-des-trolls.33 \n",
    "\n",
    "La fonction doit retourner :\n",
    "```json\n",
    "{'Nom': 'Cuvée des Trolls',\n",
    " 'Style': 'Bière Blonde',\n",
    " 'Contenu': 25,\n",
    " 'Degré d’alcool': 7.0,\n",
    " 'Origine': 'Belgique',\n",
    " 'Brasseur': 'Brasserie Dubuisson Freres'}\n",
    "```\n",
    "\n",
    "2) L'URL ci-après retourne un JSON avec une liste de bières :\n",
    "\n",
    "```python\n",
    "URL_BEERLIST_FRANCE = \"https://www.beerwulf.com/fr-FR/api/search/searchProducts?country=France&container=Bouteille\"\n",
    "```\n",
    "\n",
    "Ecrire une fonction `extract_beer_list_infos(url)` qui prend en argument cet URL et retourne les informations sur une liste de bières du site *beowulf*.\n",
    "\n",
    "Cette fonction doit retourner la liste des informations obtenues par la fonction précédemment définie `extract_beer_infos()`.\n",
    "\n",
    "Exemple de retour :\n",
    "\n",
    "```json\n",
    "[{'Nom':'Desperados','Style':'Lager','Contenu':33,'Degré d’alcool':5.9,'Origine':'France','Brasseur':'Desperados'},\n",
    "{'Nom':'La Lager Sans Gluten de Vézelay','Style':'Lager','Contenu':25,'Degré d’alcool':4.0,'Origine':'France','Brasseur':'Brasserie de Vézelay'},\n",
    "{'Nom':'Mélusine Bio','Style':'Pale Ale','Contenu': 33,'Degré d’alcool': 5.0,'Origine':'France','Brasseur':'Mélusine'},\n",
    "{'Nom':'La Parisienne Le Titi Parisien','Style':'IPA','Contenu':33,'Degré d’alcool':5.5,'Origine':'France','Brasseur': 'Brasserie la Parisienne'},\n",
    "{'Nom':'Brasserie De Sutter Brin de Folie','Style':'Bière Blonde','Contenu': 33,'Degré d’alcool':6.5,'Origine':'France','Brasseur':'Brasserie de Sutter'}]\n",
    "```\n",
    "\n",
    "**Facultatif**\n",
    "\n",
    "Chercher comment optimiser cette fonction en utilisant `multiprocessing.Pool()` pour paralléliser les accès web."
   ]
  },
  {
   "cell_type": "code",
   "execution_count": 3,
   "metadata": {},
   "outputs": [
    {
     "name": "stdout",
     "output_type": "stream",
     "text": [
      "{'Nom': 'Newcastle Brown Ale - Fût 2L The SUB', 'Style': 'Bière Brune', 'Contenu': 2, 'Degré d’alcool': 4.7, 'Origine': 'Royaume-Uni', 'Brasseur': 'ScottishNewcastle'}\n"
     ]
    }
   ],
   "source": [
    "# partie B-1\n",
    "url = \"https://www.beerwulf.com/fr-fr/p/bieres/newcastle-brown-ale-fut-2l\"\n",
    "\n",
    "# partie B-1\n",
    "def extract_beer_infos(url):\n",
    "    # on récupère la page\n",
    "    r = requests.get(url)\n",
    "    \n",
    "    # on recupère le contenue\n",
    "    soup = BeautifulSoup(r.text)\n",
    "\n",
    "    # récupérer le titre qui se trouve dans la class product-detail-info-title\n",
    "    title = [x.find('h1') for x in soup.find_all(class_='product-detail-info-title')][0]\n",
    "    # on doit enlever la première et derniere ligne de l'info en position [0]\n",
    "    style = soup.find_all('dd', class_=['small-6 medium-9 columns'])[0].text.replace(\"\\n\", \"\")\n",
    "    # on recup l'info en [1] mais un peu de transformation pour avoir le format désiré\n",
    "    degre = float(soup.find_all('dd', class_=['small-6 medium-9 columns'])[1].text.replace(\"%\", \"\").replace(\",\", \".\"))\n",
    "    # même chose + remplacement\n",
    "    brasseur = soup.find_all('dd', class_=['small-6 medium-9 columns'])[2].text.replace('\\r\\n', '').replace(' ', '').replace('\\n','')\n",
    "    # plus complexe on récupère dans un premier temps le contenue dans sa classe\n",
    "    contenu = soup.find_all('dd', class_=['small-6 medium-9 columns js-beer-volume'])\n",
    "    # puis on recupère au bon format le valeur du contenu\n",
    "    contenu = int(re.findall('[0-9]+', contenu[0].text)[0])\n",
    "    origine = soup.find_all('dd', class_=['small-6 medium-9 columns js-beer-country'])[0].text.replace('\\r\\n', '').replace(' ', '')\n",
    "\n",
    "    beer_infos = {\n",
    "        'Nom': title.text,\n",
    "        'Style': style,\n",
    "        'Contenu': contenu,\n",
    "        'Degré d’alcool': degre,\n",
    "        'Origine': origine,\n",
    "        'Brasseur': brasseur\n",
    "    }\n",
    "    return beer_infos\n",
    "\n",
    "print(extract_beer_infos(url))"
   ]
  },
  {
   "cell_type": "code",
   "execution_count": 4,
   "metadata": {},
   "outputs": [
    {
     "data": {
      "text/plain": [
       "[{'Nom': 'La Cristal IPA du Mont Blanc',\n",
       "  'Style': 'IPA',\n",
       "  'Contenu': 33,\n",
       "  'Degré d’alcool': 4.7,\n",
       "  'Origine': 'France',\n",
       "  'Brasseur': 'Mont-Blanc'},\n",
       " {'Nom': 'Ninkasi Pale Ale',\n",
       "  'Style': 'Bière Ambrée',\n",
       "  'Contenu': 33,\n",
       "  'Degré d’alcool': 4.5,\n",
       "  'Origine': 'France',\n",
       "  'Brasseur': 'NinkasiFabriques'},\n",
       " {'Nom': 'Desperados',\n",
       "  'Style': 'Lager',\n",
       "  'Contenu': 33,\n",
       "  'Degré d’alcool': 5.9,\n",
       "  'Origine': 'France',\n",
       "  'Brasseur': 'Desperados'},\n",
       " {'Nom': 'Pietra',\n",
       "  'Style': 'Lager',\n",
       "  'Contenu': 33,\n",
       "  'Degré d’alcool': 6.0,\n",
       "  'Origine': 'France',\n",
       "  'Brasseur': 'BrasseriePietra'}]"
      ]
     },
     "execution_count": 4,
     "metadata": {},
     "output_type": "execute_result"
    }
   ],
   "source": [
    "import json\n",
    "\n",
    "# partie B-2\n",
    "URL_BEERLIST_FRANCE = \"https://www.beerwulf.com/fr-FR/api/search/searchProducts?country=France&container=Bouteille\"\n",
    "BASE_URL = \"https://www.beerwulf.com/\"\n",
    "\n",
    "def extract_beer_list_infos(url):\n",
    "    beers = []\n",
    "    \n",
    "    # on récupère le contenu json de notre url\n",
    "    response = requests.get(url)\n",
    "    # Meme chose que précedemment on récupère le texte\n",
    "    json_list_beers = json.loads(response.text)\n",
    "    \n",
    "    # maitenant on va récupérer les informations de chaque bière\n",
    "    for item in json_list_beers.get('items'):\n",
    "        # nos infos se trouvent dans content reference\n",
    "        ref = item.get('contentReference')\n",
    "        # on envoie dans notre donction précédente\n",
    "        info = extract_beer_infos(BASE_URL + ref)\n",
    "        # on l'ajoute à notre liste\n",
    "        beers.append(info)\n",
    "    \n",
    "    return beers\n",
    "beers = extract_beer_list_infos(URL_BEERLIST_FRANCE)\n",
    "beers"
   ]
  },
  {
   "cell_type": "code",
   "execution_count": 5,
   "metadata": {},
   "outputs": [],
   "source": [
    "import unittest\n",
    "\n",
    "class Session4Tests(unittest.TestCase):\n",
    "    def test_01_get_prices_from_url_page2(self):\n",
    "        prices = get_prices_from_url(URL_PAGE2)\n",
    "        # We should have found 3 products:\n",
    "        self.assertIsInstance(prices, dict)\n",
    "        self.assertEqual(len(prices), 3)\n",
    "        self.assertIn('Personal', prices)\n",
    "        self.assertIn('Small Business', prices)\n",
    "        self.assertIn('Enterprise', prices)\n",
    "        \n",
    "        personal = prices['Personal']\n",
    "        self.assertIn('price', personal)\n",
    "        self.assertIn('storage', personal)\n",
    "        self.assertIn('databases', personal)\n",
    "        self.assertEqual(personal['price'], '$5')\n",
    "        self.assertEqual(personal['storage'], '1GB')\n",
    "        self.assertEqual(personal['databases'], 1)\n",
    "        \n",
    "    def test_02_get_prices_from_url_page3(self):\n",
    "        prices = get_prices_from_url(URL_PAGE3)\n",
    "        self.assertIsInstance(prices, dict)\n",
    "        self.assertEqual(len(prices), 4)\n",
    "        self.assertEqual(\n",
    "            prices['Privilege'],\n",
    "            {'databases': 100, 'price': '$99', 'storage': '1TB'}\n",
    "        )\n",
    "    \n",
    "    def test_03_extract_beer_list_infos(self):\n",
    "        infos = extract_beer_list_infos(URL_BEERLIST_FRANCE)\n",
    "        self.assertIsInstance(infos, list)\n",
    "        self.assertGreater(len(infos), 1)\n",
    "        # Contenu = int\n",
    "        # Degré d’alcool = float\n",
    "        for beer in infos:\n",
    "            self.assertIsInstance(beer['Nom'], str)\n",
    "            self.assertIsInstance(beer['Style'], str)\n",
    "            self.assertIsInstance(beer['Contenu'], int)\n",
    "            self.assertIsInstance(beer['Degré d’alcool'], float)\n",
    "            self.assertEqual(beer['Origine'], \"France\")\n",
    "            self.assertIsInstance(beer['Brasseur'], str)\n",
    "\n",
    "            \n",
    "def run_tests():\n",
    "    test_suite = unittest.makeSuite(Session4Tests)\n",
    "    runner = unittest.TextTestRunner(verbosity=2)\n",
    "    runner.run(test_suite)"
   ]
  },
  {
   "cell_type": "code",
   "execution_count": 6,
   "metadata": {},
   "outputs": [
    {
     "name": "stderr",
     "output_type": "stream",
     "text": [
      "test_01_get_prices_from_url_page2 (__main__.Session4Tests) ... ok\n",
      "test_02_get_prices_from_url_page3 (__main__.Session4Tests) ... ok\n",
      "test_03_extract_beer_list_infos (__main__.Session4Tests) ... ok\n",
      "\n",
      "----------------------------------------------------------------------\n",
      "Ran 3 tests in 1.210s\n",
      "\n",
      "OK\n"
     ]
    }
   ],
   "source": [
    "if __name__ == '__main__':\n",
    "    run_tests()"
   ]
  }
 ],
 "metadata": {
  "kernelspec": {
   "display_name": "Python 3 (ipykernel)",
   "language": "python",
   "name": "python3"
  },
  "language_info": {
   "codemirror_mode": {
    "name": "ipython",
    "version": 3
   },
   "file_extension": ".py",
   "mimetype": "text/x-python",
   "name": "python",
   "nbconvert_exporter": "python",
   "pygments_lexer": "ipython3",
   "version": "3.9.13"
  }
 },
 "nbformat": 4,
 "nbformat_minor": 4
}
